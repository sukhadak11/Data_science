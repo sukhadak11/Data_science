{
 "cells": [
  {
   "cell_type": "markdown",
   "id": "defbe11e",
   "metadata": {},
   "source": [
    "1) Standard Scaler"
   ]
  },
  {
   "cell_type": "code",
   "execution_count": 1,
   "id": "4e0c8b43",
   "metadata": {},
   "outputs": [
    {
     "name": "stdout",
     "output_type": "stream",
     "text": [
      "[[-1.22474487]\n",
      " [ 0.        ]\n",
      " [ 1.22474487]]\n"
     ]
    }
   ],
   "source": [
    "from sklearn.preprocessing import StandardScaler\n",
    "import numpy as np\n",
    "\n",
    "data = np.array([[10],[20],[30]])\n",
    "scaler = StandardScaler()\n",
    "scaled = scaler.fit_transform(data)\n",
    "print(scaled)"
   ]
  },
  {
   "cell_type": "code",
   "execution_count": 2,
   "id": "d36e5459",
   "metadata": {},
   "outputs": [
    {
     "name": "stdout",
     "output_type": "stream",
     "text": [
      "[[-1.22474487]\n",
      " [ 0.        ]\n",
      " [ 1.22474487]]\n",
      "\n",
      "Recovered original data:\n",
      " [[10.]\n",
      " [20.]\n",
      " [30.]]\n"
     ]
    }
   ],
   "source": [
    "from sklearn.preprocessing import StandardScaler\n",
    "import numpy as np\n",
    "\n",
    "data = np.array([[10],[20],[30]])\n",
    "scaler = StandardScaler()\n",
    "scaled = scaler.fit_transform(data)\n",
    "print(scaled)\n",
    "\n",
    "# Reverse the scaling\n",
    "original = scaler.inverse_transform(scaled)\n",
    "print(\"\\nRecovered original data:\\n\", original)"
   ]
  },
  {
   "cell_type": "markdown",
   "id": "1e3dddfb",
   "metadata": {},
   "source": [
    "2) MinMax Scaler"
   ]
  },
  {
   "cell_type": "code",
   "execution_count": 3,
   "id": "951deed7",
   "metadata": {},
   "outputs": [
    {
     "name": "stdout",
     "output_type": "stream",
     "text": [
      "[[0. ]\n",
      " [0.5]\n",
      " [1. ]]\n"
     ]
    }
   ],
   "source": [
    "from sklearn.preprocessing import MinMaxScaler\n",
    "import numpy as np\n",
    "\n",
    "data = np.array([[10],[20],[30]])\n",
    "scaler = MinMaxScaler()\n",
    "scaled = scaler.fit_transform(data)\n",
    "print(scaled)"
   ]
  },
  {
   "cell_type": "code",
   "execution_count": 4,
   "id": "e3d55288",
   "metadata": {},
   "outputs": [
    {
     "name": "stdout",
     "output_type": "stream",
     "text": [
      "[[0. ]\n",
      " [0.5]\n",
      " [1. ]]\n",
      "\n",
      "Recovered original data:\n",
      " [[10.]\n",
      " [20.]\n",
      " [30.]]\n"
     ]
    }
   ],
   "source": [
    "from sklearn.preprocessing import MinMaxScaler\n",
    "import numpy as np\n",
    "\n",
    "data = np.array([[10],[20],[30]])\n",
    "scaler = MinMaxScaler()\n",
    "scaled = scaler.fit_transform(data)\n",
    "print(scaled)\n",
    "\n",
    "# Reverse the scaling\n",
    "original = scaler.inverse_transform(scaled)\n",
    "print(\"\\nRecovered original data:\\n\", original)"
   ]
  },
  {
   "cell_type": "markdown",
   "id": "b148603b",
   "metadata": {},
   "source": [
    "3) Lable Encoding"
   ]
  },
  {
   "cell_type": "code",
   "execution_count": 5,
   "id": "d11d7326",
   "metadata": {},
   "outputs": [
    {
     "name": "stdout",
     "output_type": "stream",
     "text": [
      "[2 1 0 1]\n"
     ]
    }
   ],
   "source": [
    "from sklearn.preprocessing import LabelEncoder\n",
    "\n",
    "labels = ['red', 'green', 'blue', 'green']\n",
    "encoder = LabelEncoder()\n",
    "encoded = encoder.fit_transform(labels)\n",
    "print(encoded)"
   ]
  },
  {
   "cell_type": "code",
   "execution_count": 8,
   "id": "afd1a8a2",
   "metadata": {},
   "outputs": [
    {
     "name": "stdout",
     "output_type": "stream",
     "text": [
      "[2 1 0 1]\n",
      "['red' 'green' 'blue' 'green']\n"
     ]
    }
   ],
   "source": [
    "from sklearn.preprocessing import LabelEncoder\n",
    "\n",
    "labels = ['red', 'green', 'blue', 'green']\n",
    "encoder = LabelEncoder()\n",
    "encoded = encoder.fit_transform(labels)\n",
    "print(encoded)\n",
    "\n",
    "decode= encoder.inverse_transform(encoded)\n",
    "print(decode)"
   ]
  },
  {
   "cell_type": "markdown",
   "id": "e2590c06",
   "metadata": {},
   "source": [
    "4) One Hot Encoding"
   ]
  },
  {
   "cell_type": "code",
   "execution_count": 9,
   "id": "5a6fe2cb",
   "metadata": {},
   "outputs": [
    {
     "name": "stdout",
     "output_type": "stream",
     "text": [
      "[[0. 0. 1.]\n",
      " [0. 1. 0.]\n",
      " [1. 0. 0.]\n",
      " [0. 1. 0.]]\n"
     ]
    },
    {
     "name": "stderr",
     "output_type": "stream",
     "text": [
      "C:\\Users\\lenovo\\anaconda3\\Lib\\site-packages\\sklearn\\preprocessing\\_encoders.py:972: FutureWarning: `sparse` was renamed to `sparse_output` in version 1.2 and will be removed in 1.4. `sparse_output` is ignored unless you leave `sparse` to its default value.\n",
      "  warnings.warn(\n"
     ]
    }
   ],
   "source": [
    "from sklearn.preprocessing import OneHotEncoder\n",
    "\n",
    "data = np.array([['red'],['green'],['blue'],['green']])\n",
    "encoder = OneHotEncoder(sparse=False)\n",
    "encoded = encoder.fit_transform(data)\n",
    "print(encoded)"
   ]
  },
  {
   "cell_type": "code",
   "execution_count": 10,
   "id": "e7b4da5d",
   "metadata": {},
   "outputs": [
    {
     "name": "stdout",
     "output_type": "stream",
     "text": [
      "[[0. 0. 1.]\n",
      " [0. 1. 0.]\n",
      " [1. 0. 0.]\n",
      " [0. 1. 0.]]\n",
      "[['red']\n",
      " ['green']\n",
      " ['blue']\n",
      " ['green']]\n"
     ]
    },
    {
     "name": "stderr",
     "output_type": "stream",
     "text": [
      "C:\\Users\\lenovo\\anaconda3\\Lib\\site-packages\\sklearn\\preprocessing\\_encoders.py:972: FutureWarning: `sparse` was renamed to `sparse_output` in version 1.2 and will be removed in 1.4. `sparse_output` is ignored unless you leave `sparse` to its default value.\n",
      "  warnings.warn(\n"
     ]
    }
   ],
   "source": [
    "from sklearn.preprocessing import OneHotEncoder\n",
    "\n",
    "data = np.array([['red'], ['green'], ['blue'], ['green']])\n",
    "encoder = OneHotEncoder(sparse=False)\n",
    "encoded = encoder.fit_transform(data)\n",
    "print(encoded)\n",
    "\n",
    "decoder = encoder.inverse_transform(encoded)\n",
    "print(decoder)"
   ]
  },
  {
   "cell_type": "markdown",
   "id": "65bf0892",
   "metadata": {},
   "source": [
    "5) Data partitioning (train and test sets)"
   ]
  },
  {
   "cell_type": "code",
   "execution_count": 11,
   "id": "fe4bdda4",
   "metadata": {},
   "outputs": [
    {
     "name": "stdout",
     "output_type": "stream",
     "text": [
      "   age  salary\n",
      "5   60    7000\n",
      "2   30    4000\n",
      "4   50    6000\n",
      "3   45    5000\n",
      "   age  salary\n",
      "0   18    2000\n",
      "1   25    3000\n"
     ]
    }
   ],
   "source": [
    "from sklearn.model_selection import train_test_split\n",
    "import pandas as pd\n",
    "\n",
    "df = pd.DataFrame({\n",
    "    'age' : [18,25,30,45,50,60],\n",
    "    'salary' : [2000,3000,4000,5000,6000,7000],\n",
    "    'label' : [0,1,0,1,0,1]\n",
    "})\n",
    "\n",
    "X=df[['age','salary']]\n",
    "y=df['label']\n",
    "\n",
    "X_train,X_test,y_train,y_test = train_test_split(X,y,test_size=0.3,random_state=42)\n",
    "print(X_train)\n",
    "print(X_test)"
   ]
  },
  {
   "cell_type": "code",
   "execution_count": 12,
   "id": "52efc23b",
   "metadata": {},
   "outputs": [
    {
     "data": {
      "image/png": "[encoded data removed]",
      "text/plain": [
       "<Figure size 800x500 with 1 Axes>"
      ]
     },
     "metadata": {},
     "output_type": "display_data"
    }
   ],
   "source": [
    "import matplotlib.pyplot as plt\n",
    "import pandas as pd\n",
    "\n",
    "# Original dataset\n",
    "df = pd.DataFrame({\n",
    "    'age': [18, 25, 30, 45, 50, 60],\n",
    "    'salary': [2000, 3000, 4000, 5000, 6000, 7000],\n",
    "    'label': [0, 1, 0, 1, 0, 1]\n",
    "})\n",
    "\n",
    "# Split info (for visualization purposes)\n",
    "train_indices = [2, 3, 4, 5]\n",
    "test_indices = [0, 1]\n",
    "\n",
    "plt.figure(figsize=(8,5))\n",
    "\n",
    "# Plot training samples\n",
    "plt.scatter(df.loc[train_indices, 'age'], df.loc[train_indices, 'salary'],\n",
    "            color='blue', label='Train set', s=100)\n",
    "\n",
    "# Plot test samples\n",
    "plt.scatter(df.loc[test_indices, 'age'], df.loc[test_indices, 'salary'],\n",
    "            color='red', label='Test set', s=100)\n",
    "\n",
    "plt.title(\"Train-Test Split Visualization\")\n",
    "plt.xlabel(\"Age\")\n",
    "plt.ylabel(\"Salary\")\n",
    "plt.legend()\n",
    "plt.grid(True)\n",
    "plt.show()"
   ]
  },
  {
   "cell_type": "markdown",
   "id": "a9e43800",
   "metadata": {},
   "source": [
    "Summary\n",
    "\n",
    "• Standard Scaler: Normalize to mean 0 and std 1.\n",
    "\n",
    "• Min-Max Scaler: Compress values to [0,1] range.\n",
    "\n",
    "• Label Encoding: Assign numeric values to categories.\n",
    "\n",
    "• One-Hot Encoding: Binary columns for each category.\n",
    "\n",
    "• Data Partitioning: Split into training and test sets for evaluation."
   ]
  },
  {
   "cell_type": "code",
   "execution_count": null,
   "id": "d33f10f9",
   "metadata": {},
   "outputs": [],
   "source": []
  }
 ],
 "metadata": {
  "kernelspec": {
   "display_name": "Python 3 (ipykernel)",
   "language": "python",
   "name": "python3"
  },
  "language_info": {
   "codemirror_mode": {
    "name": "ipython",
    "version": 3
   },
   "file_extension": ".py",
   "mimetype": "text/x-python",
   "name": "python",
   "nbconvert_exporter": "python",
   "pygments_lexer": "ipython3",
   "version": "3.11.5"
  }
 },
 "nbformat": 4,
 "nbformat_minor": 5
}
